{
 "cells": [
  {
   "cell_type": "markdown",
   "metadata": {},
   "source": [
    "# Rice Image"
   ]
  },
  {
   "cell_type": "code",
   "execution_count": 3,
   "metadata": {},
   "outputs": [
    {
     "name": "stdout",
     "output_type": "stream",
     "text": [
      "94\n"
     ]
    }
   ],
   "source": [
    "%matplotlib inline\n",
    "import numpy as np\n",
    "import cv2 as cv\n",
    "import matplotlib.pyplot as plt\n",
    "fn = './images/rice.png'\n",
    "im = cv.imread(fn, cv.IMREAD_GRAYSCALE)\n",
    "\n",
    "kernel = np.ones((13,13),np.uint8)\n",
    "bg = cv.morphologyEx(im, cv.MORPH_OPEN, kernel)\n",
    "bgcorrected  = cv.addWeighted(im, 1, bg, -1, 0)\n",
    "bgcorrected = cv.normalize(bgcorrected, bgcorrected, 255, 0, cv.NORM_MINMAX)\n",
    "thresh = cv.inRange(bgcorrected, 50, 255)\n",
    "kernel = np.ones((3,3),np.uint8)\n",
    "thresh = cv.morphologyEx(thresh, cv.MORPH_OPEN, kernel)\n",
    "retval, labels, stats, centroids = cv.connectedComponentsWithStats(thresh)\n",
    "print(retval)\n",
    "colomapped = cv.applyColorMap((labels/np.amax(labels)*255).astype('uint8'), cv.COLORMAP_PARULA)\n",
    "\n",
    "\n",
    "cv.namedWindow('Original', cv.WINDOW_AUTOSIZE)\n",
    "cv.imshow('Original', im)\n",
    "cv.waitKey(0)\n",
    "\n",
    "cv.namedWindow('Background', cv.WINDOW_AUTOSIZE)\n",
    "cv.imshow('Background', bg)\n",
    "cv.waitKey(0)\n",
    "\n",
    "cv.namedWindow('BgCorrected', cv.WINDOW_AUTOSIZE)\n",
    "cv.imshow('BgCorrected', bgcorrected)\n",
    "cv.waitKey(0)\n",
    "\n",
    "cv.namedWindow('Thresh', cv.WINDOW_AUTOSIZE)\n",
    "cv.imshow('Thresh', thresh)\n",
    "cv.waitKey(0)\n",
    "\n",
    "cv.namedWindow('Labels', cv.WINDOW_AUTOSIZE)\n",
    "cv.imshow('Labels', colomapped)\n",
    "cv.waitKey(0)\n",
    "\n",
    "cv.destroyAllWindows()\n",
    "\n",
    "\n",
    " "
   ]
  },
  {
   "cell_type": "code",
   "execution_count": 11,
   "metadata": {},
   "outputs": [
    {
     "name": "stdout",
     "output_type": "stream",
     "text": [
      "93\n",
      "0\n"
     ]
    }
   ],
   "source": [
    "print(np.amax(labels)) \n",
    "print(np.amin(labels))"
   ]
  },
  {
   "cell_type": "code",
   "execution_count": 2,
   "metadata": {},
   "outputs": [
    {
     "name": "stdout",
     "output_type": "stream",
     "text": [
      "uint8\n"
     ]
    }
   ],
   "source": [
    "print(thresh.dtype)"
   ]
  },
  {
   "cell_type": "code",
   "execution_count": 12,
   "metadata": {},
   "outputs": [
    {
     "name": "stdout",
     "output_type": "stream",
     "text": [
      "-1.0/(0.5*a - 1.0) - 1.0/(0.333333333333333*a - 1.0)\n"
     ]
    }
   ],
   "source": [
    "from sympy import *\n",
    "a, z, x = symbols('a z x')\n",
    "z = (2  - 5/6*a)/(1 - 5/6*a + 1/6*a**2)\n",
    "print(apart(z))"
   ]
  },
  {
   "cell_type": "code",
   "execution_count": null,
   "metadata": {},
   "outputs": [],
   "source": []
  }
 ],
 "metadata": {
  "kernelspec": {
   "display_name": "Python 3",
   "language": "python",
   "name": "python3"
  },
  "language_info": {
   "codemirror_mode": {
    "name": "ipython",
    "version": 3
   },
   "file_extension": ".py",
   "mimetype": "text/x-python",
   "name": "python",
   "nbconvert_exporter": "python",
   "pygments_lexer": "ipython3",
   "version": "3.7.6"
  }
 },
 "nbformat": 4,
 "nbformat_minor": 4
}
